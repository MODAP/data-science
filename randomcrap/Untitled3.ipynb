{
 "cells": [
  {
   "cell_type": "code",
   "execution_count": 1,
   "id": "0b4bce0a-a8a7-40b5-ab18-e08a83201020",
   "metadata": {},
   "outputs": [],
   "source": [
    "import pygrib"
   ]
  },
  {
   "cell_type": "code",
   "execution_count": 4,
   "id": "df5f0f57-9513-4893-bb9f-78a02895c91e",
   "metadata": {},
   "outputs": [],
   "source": [
    "bruh = pygrib.open('gfs.grib2')"
   ]
  },
  {
   "cell_type": "code",
   "execution_count": null,
   "id": "5afcac2f-8d14-4cba-a0fa-8eecf2bd960a",
   "metadata": {},
   "outputs": [],
   "source": []
  }
 ],
 "metadata": {
  "kernelspec": {
   "display_name": "Python 3 (ipykernel)",
   "language": "python",
   "name": "python3"
  },
  "language_info": {
   "codemirror_mode": {
    "name": "ipython",
    "version": 3
   },
   "file_extension": ".py",
   "mimetype": "text/x-python",
   "name": "python",
   "nbconvert_exporter": "python",
   "pygments_lexer": "ipython3",
   "version": "3.9.6"
  }
 },
 "nbformat": 4,
 "nbformat_minor": 5
}
